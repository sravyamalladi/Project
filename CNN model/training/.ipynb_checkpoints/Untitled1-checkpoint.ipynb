{
 "cells": [
  {
   "cell_type": "code",
   "execution_count": null,
   "id": "f09c18d1-2efd-4a31-b1fa-c34e54d962eb",
   "metadata": {},
   "outputs": [],
   "source": [
    "import os\n",
    "import pandas as pd\n",
    "\n",
    "# Define the path to the annotation files and image folder\n",
    "annotation_file = '/kaggle/input/corn-disease-drone-images/DRONE_IMAGES_ANNOTATION.csv'\n",
    "image_folder = '/kaggle/input/corn-disease-drone-images/DRONE_IMAGES/DRONE_IMAGES/'\n",
    "\n",
    "# Load annotations\n",
    "annotations = pd.read_csv(annotation_file)"
   ]
  },
  {
   "cell_type": "code",
   "execution_count": null,
   "id": "c36dd6ea-d978-48a3-ab5c-e641029ef7c3",
   "metadata": {},
   "outputs": [],
   "source": [
    "\n",
    "# Function to convert line annotations to bounding boxes\n",
    "def line_to_bbox(x1, y1, x2, y2):\n",
    "    xmin = min(x1, x2)\n",
    "    xmax = max(x1, x2)\n",
    "    ymin = min(y1, y2)\n",
    "    ymax = max(y1, y2)\n",
    "    return xmin, ymin, xmax, ymax\n",
    "\n",
    "# Create a dictionary to store image annotations\n",
    "image_annotations = {}\n",
    "\n",
    "# Parse the CSV file\n",
    "for _, row in annotations.iterrows():\n",
    "    img_name = row['image']\n",
    "    x1, y1, x2, y2 = row['x1'], row['y1'], row['x2'], row['y2']\n",
    "    bbox = line_to_bbox(x1, y1, x2, y2)\n",
    "    \n",
    "    if img_name not in image_annotations:\n",
    "        image_annotations[img_name] = []\n",
    "    image_annotations[img_name].append(bbox)\n",
    "print(image_annotations)"
   ]
  },
  {
   "cell_type": "code",
   "execution_count": null,
   "id": "83dd68b3-842b-4175-a114-35fb8fa6b7ac",
   "metadata": {},
   "outputs": [],
   "source": [
    "import cv2\n",
    "import numpy as np\n",
    "from sklearn.model_selection import train_test_split\n",
    "\n",
    "# Initialize lists to store images and bounding boxes\n",
    "images = []\n",
    "bboxes = []\n",
    "\n",
    "# Process images and create bounding boxes\n",
    "for img_name, boxes in image_annotations.items():\n",
    "    img_path = os.path.join('/kaggle/input/corn-disease-drone-images/DRONE_IMAGES/DRONE_IMAGES/', img_name)\n",
    "    img = cv2.imread(img_path)\n",
    "    \n",
    "    if img is not None:\n",
    "        images.append(img)\n",
    "        bboxes.append(boxes)\n",
    "        print(\"yep\")\n",
    "    else:\n",
    "        print(\"nope\")"
   ]
  }
 ],
 "metadata": {
  "kernelspec": {
   "display_name": "Python 3 (ipykernel)",
   "language": "python",
   "name": "python3"
  },
  "language_info": {
   "codemirror_mode": {
    "name": "ipython",
    "version": 3
   },
   "file_extension": ".py",
   "mimetype": "text/x-python",
   "name": "python",
   "nbconvert_exporter": "python",
   "pygments_lexer": "ipython3",
   "version": "3.9.18"
  }
 },
 "nbformat": 4,
 "nbformat_minor": 5
}
