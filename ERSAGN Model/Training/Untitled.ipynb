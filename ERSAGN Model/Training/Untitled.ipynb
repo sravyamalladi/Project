{
 "cells": [
  {
   "cell_type": "code",
   "execution_count": 1,
   "id": "6abb3777-6705-43bf-aff7-9d0c17b195a9",
   "metadata": {},
   "outputs": [],
   "source": [
    "from tensorflow.keras.preprocessing.image import ImageDataGenerator"
   ]
  },
  {
   "cell_type": "code",
   "execution_count": 8,
   "id": "be0dabab-2988-42fe-91dc-5b84068697c8",
   "metadata": {},
   "outputs": [],
   "source": [
    "datagen = ImageDataGenerator(rescale=1./255)\n",
    "dataset_name = \"dataset\"\n",
    "IMAGE_SIZE = 256\n",
    "BATCH_SIZE = 32\n"
   ]
  },
  {
   "cell_type": "code",
   "execution_count": 30,
   "id": "e2a255fa-170b-46a9-84cb-7be4b7d601d8",
   "metadata": {},
   "outputs": [
    {
     "name": "stdout",
     "output_type": "stream",
     "text": [
      "Found 1370 images belonging to 2 classes.\n"
     ]
    }
   ],
   "source": [
    "training_generator = datagen.flow_from_directory(\n",
    "    'dataset/train',\n",
    "    target_size=(IMAGE_SIZE, IMAGE_SIZE),\n",
    "    batch_size=BATCH_SIZE,\n",
    "    class_mode='input',\n",
    "    shuffle=True,\n",
    "    seed=1  \n",
    ")\n"
   ]
  },
  {
   "cell_type": "code",
   "execution_count": 5,
   "id": "8a0aca29-6422-4275-b703-96b069487a77",
   "metadata": {},
   "outputs": [
    {
     "name": "stdout",
     "output_type": "stream",
     "text": [
      "Cloning into 'Real-ESRGAN'...\n",
      "remote: Enumerating objects: 34, done.\u001b[K\n",
      "remote: Total 34 (delta 0), reused 0 (delta 0), pack-reused 34 (from 1)\u001b[K\n",
      "Unpacking objects: 100% (34/34), 3.76 MiB | 1.64 MiB/s, done.\n",
      "/Users/sravyamalladi/Desktop/Project/ERSAGN Model/Training/Real-ESRGAN/Real-ESRGAN/Real-ESRGAN/Real-ESRGAN\n",
      "fetch: Fetching reference refs/heads/main\n",
      "Cannot checkout LFS objects, Git LFS is not installed.                          \n"
     ]
    }
   ],
   "source": []
  },
  {
   "cell_type": "code",
   "execution_count": 7,
   "id": "7de92c11-f971-4137-949a-17d147375f5d",
   "metadata": {},
   "outputs": [
    {
     "name": "stdout",
     "output_type": "stream",
     "text": [
      "total 32\n",
      "-rw-r--r--  1 sravyamalladi  staff   1.2K Jul 14 20:02 README.md\n",
      "-rw-r--r--  1 sravyamalladi  staff   133B Jul 14 20:02 RealESRGAN_x2.pth\n",
      "-rw-r--r--  1 sravyamalladi  staff   133B Jul 14 20:02 RealESRGAN_x4.pth\n",
      "-rw-r--r--  1 sravyamalladi  staff   133B Jul 14 20:02 RealESRGAN_x8.pth\n"
     ]
    }
   ],
   "source": []
  },
  {
   "cell_type": "code",
   "execution_count": 9,
   "id": "d161cd25-ef0b-41bd-8b90-bf8a562a91a4",
   "metadata": {},
   "outputs": [
    {
     "name": "stdout",
     "output_type": "stream",
     "text": [
      "Traceback (most recent call last):\n",
      "  File \"/opt/anaconda3/bin/pip\", line 7, in <module>\n",
      "    from pip._internal.cli.main import main\n",
      "  File \"/opt/anaconda3/lib/python3.9/site-packages/pip/_internal/cli/main.py\", line 10, in <module>\n",
      "    from pip._internal.cli.autocompletion import autocomplete\n",
      "  File \"/opt/anaconda3/lib/python3.9/site-packages/pip/_internal/cli/autocompletion.py\", line 10, in <module>\n",
      "    from pip._internal.cli.main_parser import create_main_parser\n",
      "  File \"/opt/anaconda3/lib/python3.9/site-packages/pip/_internal/cli/main_parser.py\", line 9, in <module>\n",
      "    from pip._internal.build_env import get_runnable_pip\n",
      "  File \"/opt/anaconda3/lib/python3.9/site-packages/pip/_internal/build_env.py\", line 19, in <module>\n",
      "    from pip._internal.cli.spinners import open_spinner\n",
      "  File \"/opt/anaconda3/lib/python3.9/site-packages/pip/_internal/cli/spinners.py\", line 9, in <module>\n",
      "    from pip._internal.utils.logging import get_indentation\n",
      "  File \"/opt/anaconda3/lib/python3.9/site-packages/pip/_internal/utils/logging.py\", line 13, in <module>\n",
      "    from pip._vendor.rich.console import (\n",
      "  File \"/opt/anaconda3/lib/python3.9/site-packages/pip/_vendor/rich/__init__.py\", line 17, in <module>\n",
      "    _IMPORT_CWD = os.path.abspath(os.getcwd())\n",
      "PermissionError: [Errno 1] Operation not permitted\n"
     ]
    }
   ],
   "source": []
  }
 ],
 "metadata": {
  "kernelspec": {
   "display_name": "Python 3 (ipykernel)",
   "language": "python",
   "name": "python3"
  },
  "language_info": {
   "codemirror_mode": {
    "name": "ipython",
    "version": 3
   },
   "file_extension": ".py",
   "mimetype": "text/x-python",
   "name": "python",
   "nbconvert_exporter": "python",
   "pygments_lexer": "ipython3",
   "version": "3.9.18"
  }
 },
 "nbformat": 4,
 "nbformat_minor": 5
}
